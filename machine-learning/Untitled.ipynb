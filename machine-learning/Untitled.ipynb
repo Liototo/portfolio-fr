{
 "cells": [
  {
   "cell_type": "code",
   "execution_count": 2,
   "id": "8a98aa2a",
   "metadata": {},
   "outputs": [],
   "source": [
    "import numpy as np"
   ]
  },
  {
   "cell_type": "code",
   "execution_count": 27,
   "id": "d85dc976",
   "metadata": {},
   "outputs": [],
   "source": [
    "our_res = np.load('results_class.npy')"
   ]
  },
  {
   "cell_type": "code",
   "execution_count": 4,
   "id": "b77877a5",
   "metadata": {},
   "outputs": [],
   "source": [
    "true_res = np.load('./h36m_data/h36m_test1_labels.npy')"
   ]
  },
  {
   "cell_type": "code",
   "execution_count": 5,
   "id": "d3660a0c",
   "metadata": {},
   "outputs": [
    {
     "data": {
      "text/plain": "(618,)"
     },
     "execution_count": 5,
     "metadata": {},
     "output_type": "execute_result"
    }
   ],
   "source": [
    "true_res.shape"
   ]
  },
  {
   "cell_type": "code",
   "execution_count": 28,
   "id": "f7271928",
   "metadata": {},
   "outputs": [
    {
     "data": {
      "text/plain": "0.8090614886731392"
     },
     "execution_count": 28,
     "metadata": {},
     "output_type": "execute_result"
    }
   ],
   "source": [
    "sum(our_res == true_res) / 618"
   ]
  }
 ],
 "metadata": {
  "kernelspec": {
   "display_name": "Python 3 (ipykernel)",
   "language": "python",
   "name": "python3"
  },
  "language_info": {
   "codemirror_mode": {
    "name": "ipython",
    "version": 3
   },
   "file_extension": ".py",
   "mimetype": "text/x-python",
   "name": "python",
   "nbconvert_exporter": "python",
   "pygments_lexer": "ipython3",
   "version": "3.9.13"
  }
 },
 "nbformat": 4,
 "nbformat_minor": 5
}
